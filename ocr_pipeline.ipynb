{
 "cells": [
  {
   "cell_type": "code",
   "execution_count": 160,
   "id": "4e0dd485",
   "metadata": {},
   "outputs": [],
   "source": [
    "#!pip install pillow\n",
    "#!pip install pytesseract\n",
    "#!pip install opencv-python\n"
   ]
  },
  {
   "cell_type": "code",
   "execution_count": 161,
   "id": "94dfe673",
   "metadata": {},
   "outputs": [],
   "source": [
    "from PIL import Image, ImageFont, ImageDraw\n",
    "import cv2 \n",
    "import pytesseract\n",
    "import numpy as np\n",
    "pytesseract.pytesseract.tesseract_cmd = r'C:\\Program Files\\Tesseract-OCR\\tesseract'"
   ]
  },
  {
   "cell_type": "code",
   "execution_count": 162,
   "id": "b6df8a1e",
   "metadata": {},
   "outputs": [],
   "source": [
    "my_image = Image.open(r\"C:\\Users\\prateek\\Desktop\\Ayoo docs\\Code\\paperless\\forms\\cs_inventory.jpg\")"
   ]
  },
  {
   "cell_type": "code",
   "execution_count": 163,
   "id": "100662a0",
   "metadata": {},
   "outputs": [],
   "source": [
    "#Below ttf file is openly avilable font in human handwriting.\n",
    "# We can create custom ttf files using https://pypi.org/project/handwrite/\n",
    "\n",
    "title_font = ImageFont.truetype(r'C:\\Users\\prateek\\Desktop\\Ayoo docs\\Code\\paperless\\fonts\\GrapeNuts-Regular.ttf', size =100)"
   ]
  },
  {
   "cell_type": "code",
   "execution_count": null,
   "id": "1ea9893b",
   "metadata": {},
   "outputs": [],
   "source": []
  },
  {
   "cell_type": "code",
   "execution_count": null,
   "id": "766d4685",
   "metadata": {},
   "outputs": [],
   "source": []
  },
  {
   "cell_type": "code",
   "execution_count": 164,
   "id": "1f6734ca",
   "metadata": {},
   "outputs": [],
   "source": [
    "# #ocr with tesseract - Will use this pipeline later to preprocess images. Not using curently\n",
    "\n",
    "img = cv2.imread(r\"C:\\Users\\prateek\\Desktop\\Ayoo docs\\Code\\paperless\\forms\\cs_inventory.jpg\")\n",
    "\n",
    "# # get grayscale image\n",
    "# def get_grayscale(image):\n",
    "#     return cv2.cvtColor(image, cv2.COLOR_BGR2GRAY)\n",
    "\n",
    "# # noise removal\n",
    "# def remove_noise(image):\n",
    "#     return cv2.medianBlur(image,5)\n",
    " \n",
    "# #thresholding\n",
    "# def thresholding(image):\n",
    "#     return cv2.threshold(image, 0, 255, cv2.THRESH_BINARY + cv2.THRESH_OTSU)[1]\n",
    "\n",
    "# #dilation\n",
    "# def dilate(image):\n",
    "#     kernel = np.ones((5,5),np.uint8)\n",
    "#     return cv2.dilate(image, kernel, iterations = 1)\n",
    "    \n",
    "# #erosion\n",
    "# def erode(image):\n",
    "#     kernel = np.ones((5,5),np.uint8)\n",
    "#     return cv2.erode(image, kernel, iterations = 1)\n",
    "\n",
    "# #opening - erosion followed by dilation\n",
    "# def opening(image):\n",
    "#     kernel = np.ones((5,5),np.uint8)\n",
    "#     return cv2.morphologyEx(image, cv2.MORPH_OPEN, kernel)\n",
    "\n",
    "# #canny edge detection\n",
    "# def canny(image):\n",
    "#     return cv2.Canny(image, 100, 200)\n",
    "\n",
    "# #skew correction\n",
    "# def deskew(image):\n",
    "#     coords = np.column_stack(np.where(image > 0))\n",
    "#     angle = cv2.minAreaRect(coords)[-1]\n",
    "#     if angle < -45:\n",
    "#         angle = -(90 + angle)\n",
    "#     else:\n",
    "#         angle = -angle\n",
    "#     (h, w) = image.shape[:2]\n",
    "#     center = (w // 2, h // 2)\n",
    "#     M = cv2.getRotationMatrix2D(center, angle, 1.0)\n",
    "#     rotated = cv2.warpAffine(image, M, (w, h), flags=cv2.INTER_CUBIC, borderMode=cv2.BORDER_REPLICATE)\n",
    "#     return rotated\n"
   ]
  },
  {
   "cell_type": "code",
   "execution_count": null,
   "id": "61c046ff",
   "metadata": {},
   "outputs": [],
   "source": []
  },
  {
   "cell_type": "code",
   "execution_count": 165,
   "id": "622c7b1c",
   "metadata": {},
   "outputs": [
    {
     "name": "stdout",
     "output_type": "stream",
     "text": [
      "dict_keys(['level', 'page_num', 'block_num', 'par_num', 'line_num', 'word_num', 'left', 'top', 'width', 'height', 'conf', 'text'])\n"
     ]
    }
   ],
   "source": [
    "from pytesseract import Output\n",
    "\n",
    "\n",
    "d = pytesseract.image_to_data(img, output_type=Output.DICT)\n",
    "print(d.keys())"
   ]
  },
  {
   "cell_type": "code",
   "execution_count": 166,
   "id": "df4f744e",
   "metadata": {},
   "outputs": [
    {
     "name": "stdout",
     "output_type": "stream",
     "text": [
      "0 \n",
      "1 \n",
      "2 \n",
      "3 \n",
      "4 XYZ\n",
      "5 pharmacy\n",
      "6 \n",
      "7 Controlled\n",
      "8 Substance\n",
      "9 Inventory\n",
      "10 \n",
      "11 \n",
      "12 \n",
      "13 Report\n",
      "14 Contents\n",
      "15 (circle\n",
      "16 one):\n",
      "17 \n",
      "18 CIll-V\n",
      "19 PSE/E*\n",
      "20 \n",
      "21 \n",
      "22 \n",
      "23 *if\n",
      "24 required\n",
      "25 by\n",
      "26 your\n",
      "27 state\n",
      "28 \n",
      "29 \n",
      "30 \n",
      "31  \n",
      "32 \n",
      "33 \n",
      "34 \n",
      "35 XYZ/pharmacy\n",
      "36 Store\n",
      "37 #\n",
      "38 \n",
      "39 Address:\n",
      "40 \n",
      "41 City.\n",
      "42 OC“\n",
      "43 CS\n",
      "44 Statte:\n",
      "45 Zip:\n",
      "46 \n",
      "47 \n",
      "48 \n",
      "49 DEA\n",
      "50 registration\n",
      "51 number\n",
      "52 \n",
      "53 \n",
      "54 \n",
      "55 Reason\n",
      "56 for\n",
      "57 inventory:\n",
      "58 ANNUAL\n",
      "59 Change\n",
      "60 in\n",
      "61 PIC**\n",
      "62 \n",
      "63 \n",
      "64 \n",
      "65 (circle\n",
      "66 one)\n",
      "67 Drug(s)\n",
      "68 Newly\n",
      "69 Scheduled\n",
      "70 Acquired\n",
      "71 Inventory\n",
      "72 _\n",
      "73 Initial\n",
      "74 Inventory\n",
      "75 \n",
      "76 \n",
      "77 \n",
      "78  \n",
      "79 \n",
      "80 \n",
      "81 \n",
      "82 DATE\n",
      "83 Inventory\n",
      "84 Conducted:\n",
      "85 ——._\n",
      "86 /____\n",
      "87 ds.\n",
      "88 \n",
      "89 \n",
      "90 \n",
      "91 TIME\n",
      "92 Inventory\n",
      "93 Conducted:\n",
      "94 \n",
      "95 \n",
      "96 \n",
      "97 Circle\n",
      "98 one:\n",
      "99 Opening\n",
      "100 of\n",
      "101 Business\n",
      "102 Closing\n",
      "103 of\n",
      "104 Business\n",
      "105 \n",
      "106 \n",
      "107 \n",
      "108 SIGNATURE\n",
      "109 of\n",
      "110 RPh\n",
      "111 performing\n",
      "112 count\n",
      "113 \n",
      "114 \n",
      "115 \n",
      "116 PRINTED\n",
      "117 NAME\n",
      "118 of\n",
      "119 Rph\n",
      "120 performing\n",
      "121 count\n",
      "122 \n",
      "123 \n",
      "124 \n",
      "125 **if\n",
      "126 Change\n",
      "127 in\n",
      "128 PIC\n",
      "129 (circle\n",
      "130 one):\n",
      "131 Outgoing\n",
      "132 PIC\n",
      "133 Incoming\n",
      "134 PIC\n"
     ]
    }
   ],
   "source": [
    "for i in range(len(d['text'])):\n",
    "    print(i, d['text'][i])"
   ]
  },
  {
   "cell_type": "code",
   "execution_count": 167,
   "id": "6b1ab65f",
   "metadata": {},
   "outputs": [],
   "source": [
    "auto_fill_dict ={\n",
    "\n",
    " 37:'store',\n",
    " 39:'Address',\n",
    " 41:'City',\n",
    " 44:'state',\n",
    " 45:'zip',\n",
    " 51:'number',\n",
    "\n",
    " 82:'Date',\n",
    "\n",
    " 91:'time',\n",
    "\n",
    " 121 :'rph name'}\n",
    "\n",
    "auto_fill_values ={}"
   ]
  },
  {
   "cell_type": "code",
   "execution_count": 168,
   "id": "aa9fc0ea",
   "metadata": {},
   "outputs": [],
   "source": []
  },
  {
   "cell_type": "code",
   "execution_count": 169,
   "id": "fab57ffa",
   "metadata": {},
   "outputs": [
    {
     "name": "stdout",
     "output_type": "stream",
     "text": [
      "662 853 27 37\n",
      "#\n",
      "(739, 806)\n",
      "322 961 200 40\n",
      "Address:\n",
      "(572, 911)\n",
      "330 1072 98 48\n",
      "City.\n",
      "(478, 1014)\n",
      "1240 1067 130 59\n",
      "Statte:\n",
      "(1420, 998)\n",
      "1604 1072 288 48\n",
      "Zip:\n",
      "(1942, 1014)\n",
      "738 1180 182 41\n",
      "number\n",
      "(970, 1129)\n",
      "154 1763 123 37\n",
      "DATE\n",
      "(327, 1716)\n",
      "150 1983 121 37\n",
      "TIME\n",
      "(321, 1936)\n",
      "991 2802 133 35\n",
      "count\n",
      "(1174, 2757)\n"
     ]
    }
   ],
   "source": [
    "\n",
    "n_boxes = len(d['level'])\n",
    "for i in range(n_boxes):\n",
    "    if (i in auto_fill_dict.keys()):\n",
    "        (x, y, w, h) = (d['left'][i], d['top'][i], d['width'][i], d['height'][i])\n",
    "        print(x,y,w,h)\n",
    "        print(d['text'][i])\n",
    "        coordinates = (x+w+50, y-h-10)\n",
    "        print(coordinates)\n",
    "        \n",
    "        if (i == 82):\n",
    "            auto_fill_values['DD'] = (x+w+800, y-h-10)\n",
    "            auto_fill_values['MM'] = (x+w+1200, y-h-10)\n",
    "            auto_fill_values['YY'] = (x+w+1600, y-h-10)\n",
    "        elif (i == 91): \n",
    "            auto_fill_values['time'] = (x+w+800, y-h-10)\n",
    "        else:\n",
    "            auto_fill_values[auto_fill_dict[i]] = coordinates\n"
   ]
  },
  {
   "cell_type": "code",
   "execution_count": 170,
   "id": "823b0944",
   "metadata": {},
   "outputs": [
    {
     "data": {
      "text/plain": [
       "{'store': (739, 806),\n",
       " 'Address': (572, 911),\n",
       " 'City': (478, 1014),\n",
       " 'state': (1420, 998),\n",
       " 'zip': (1942, 1014),\n",
       " 'number': (970, 1129),\n",
       " 'DD': (1077, 1716),\n",
       " 'MM': (1477, 1716),\n",
       " 'YY': (1877, 1716),\n",
       " 'time': (1071, 1936),\n",
       " 'rph name': (1174, 2757)}"
      ]
     },
     "execution_count": 170,
     "metadata": {},
     "output_type": "execute_result"
    }
   ],
   "source": [
    "auto_fill_values"
   ]
  },
  {
   "cell_type": "code",
   "execution_count": 171,
   "id": "03144383",
   "metadata": {},
   "outputs": [],
   "source": [
    "#Currently I am using hard coded values , but will enhance it to use random values from name, address, location dictionaries\n",
    "\n",
    "\n",
    "image_editable = ImageDraw.Draw(my_image)\n",
    "for k,v in auto_fill_values.items():\n",
    "\n",
    "    image_editable.text(v, k, (32, 0, 32), font=title_font)"
   ]
  },
  {
   "cell_type": "code",
   "execution_count": 172,
   "id": "cbac4a7f",
   "metadata": {},
   "outputs": [],
   "source": [
    "my_image.save(r'C:\\Users\\prateek\\Desktop\\Ayoo docs\\Code\\paperless\\auto_dataset\\result2.jpg')"
   ]
  },
  {
   "cell_type": "code",
   "execution_count": null,
   "id": "39f5e3aa",
   "metadata": {},
   "outputs": [],
   "source": []
  }
 ],
 "metadata": {
  "kernelspec": {
   "display_name": "Python 3 (ipykernel)",
   "language": "python",
   "name": "python3"
  },
  "language_info": {
   "codemirror_mode": {
    "name": "ipython",
    "version": 3
   },
   "file_extension": ".py",
   "mimetype": "text/x-python",
   "name": "python",
   "nbconvert_exporter": "python",
   "pygments_lexer": "ipython3",
   "version": "3.9.13"
  }
 },
 "nbformat": 4,
 "nbformat_minor": 5
}
